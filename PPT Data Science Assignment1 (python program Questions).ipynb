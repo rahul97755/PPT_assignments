{
 "cells": [
  {
   "cell_type": "markdown",
   "id": "2eb28627",
   "metadata": {},
   "source": [
    "1.Write a Python program to reverse a string without using any built-in string reversal functions"
   ]
  },
  {
   "cell_type": "code",
   "execution_count": 2,
   "id": "b5ff8ad9",
   "metadata": {},
   "outputs": [],
   "source": [
    "def reverse(s):\n",
    "    st=\"\"\n",
    "    for i in s:\n",
    "        st=i+st\n",
    "    return st    "
   ]
  },
  {
   "cell_type": "code",
   "execution_count": 3,
   "id": "b59138f5",
   "metadata": {},
   "outputs": [
    {
     "data": {
      "text/plain": [
       "'nohtyp'"
      ]
     },
     "execution_count": 3,
     "metadata": {},
     "output_type": "execute_result"
    }
   ],
   "source": [
    "reverse(\"python\")"
   ]
  },
  {
   "cell_type": "code",
   "execution_count": 4,
   "id": "3d4be0e3",
   "metadata": {},
   "outputs": [
    {
     "data": {
      "text/plain": [
       "'nohtyp'"
      ]
     },
     "execution_count": 4,
     "metadata": {},
     "output_type": "execute_result"
    }
   ],
   "source": [
    "s=\"python\"\n",
    "s[::-1]"
   ]
  },
  {
   "cell_type": "markdown",
   "id": "366f1d19",
   "metadata": {},
   "source": [
    "2. Implement a function to check if a given string is a palindrome."
   ]
  },
  {
   "cell_type": "code",
   "execution_count": 5,
   "id": "badef8c3",
   "metadata": {},
   "outputs": [],
   "source": [
    "def is_palindrome(s):\n",
    "    sr=s[::-1]\n",
    "    if s==sr:\n",
    "        print(\"palindrome\")\n",
    "    else:\n",
    "        print(\" not palindrome\")"
   ]
  },
  {
   "cell_type": "code",
   "execution_count": 6,
   "id": "8031c7da",
   "metadata": {},
   "outputs": [
    {
     "name": "stdout",
     "output_type": "stream",
     "text": [
      "palindrome\n"
     ]
    }
   ],
   "source": [
    "is_palindrome(\"madam\")"
   ]
  },
  {
   "cell_type": "markdown",
   "id": "66508ae5",
   "metadata": {},
   "source": [
    "3.Write a program to find the largest element in a given list."
   ]
  },
  {
   "cell_type": "code",
   "execution_count": 7,
   "id": "863dbaae",
   "metadata": {},
   "outputs": [
    {
     "name": "stdout",
     "output_type": "stream",
     "text": [
      "Largest element is: 99\n"
     ]
    }
   ],
   "source": [
    "list1 = [10, 20, 4, 45, 99]\n",
    " \n",
    "# Printing the maximum element\n",
    "print(\"Largest element is:\", max(list1))"
   ]
  },
  {
   "cell_type": "markdown",
   "id": "e5bca840",
   "metadata": {},
   "source": [
    "4.Implement a function to count the occurrence of each element in a list."
   ]
  },
  {
   "cell_type": "code",
   "execution_count": 8,
   "id": "175756ee",
   "metadata": {},
   "outputs": [
    {
     "name": "stdout",
     "output_type": "stream",
     "text": [
      "Element Count\n"
     ]
    },
    {
     "data": {
      "text/plain": [
       "2    3\n",
       "1    2\n",
       "3    2\n",
       "4    2\n",
       "5    2\n",
       "dtype: int64"
      ]
     },
     "execution_count": 8,
     "metadata": {},
     "output_type": "execute_result"
    }
   ],
   "source": [
    "import pandas as pd\n",
    " \n",
    "# declaring the list\n",
    "l = [1, 1, 2, 2, 2, 3, 3, 4, 4, 5, 5]\n",
    " \n",
    "count = pd.Series(l).value_counts()\n",
    "print(\"Element Count\")\n",
    "count"
   ]
  },
  {
   "cell_type": "markdown",
   "id": "3a4b7736",
   "metadata": {},
   "source": [
    "5. Write a Python program to find the second largest number in a list."
   ]
  },
  {
   "cell_type": "code",
   "execution_count": 9,
   "id": "192327a7",
   "metadata": {},
   "outputs": [
    {
     "data": {
      "text/plain": [
       "78"
      ]
     },
     "execution_count": 9,
     "metadata": {},
     "output_type": "execute_result"
    }
   ],
   "source": [
    "list4=[23,34,56,78,98,32,22,21,12]\n",
    "list4.sort(reverse=True)\n",
    "list4[1]"
   ]
  },
  {
   "cell_type": "markdown",
   "id": "ecd71769",
   "metadata": {},
   "source": [
    "6.Implement a function to remove duplicate elements from a list."
   ]
  },
  {
   "cell_type": "code",
   "execution_count": 10,
   "id": "f76752b4",
   "metadata": {},
   "outputs": [
    {
     "data": {
      "text/plain": [
       "[32, 34, 98, 12, 78, 21, 22, 23, 56]"
      ]
     },
     "execution_count": 10,
     "metadata": {},
     "output_type": "execute_result"
    }
   ],
   "source": [
    "list5=[23,34,56,32,23,78,98,32,22,21,12]\n",
    "list(set(list5))"
   ]
  },
  {
   "cell_type": "markdown",
   "id": "ddeeb5c2",
   "metadata": {},
   "source": [
    "7.Write a program to calculate the factorial of a given number\n",
    "        "
   ]
  },
  {
   "cell_type": "code",
   "execution_count": 11,
   "id": "9f8f35fd",
   "metadata": {},
   "outputs": [
    {
     "name": "stdout",
     "output_type": "stream",
     "text": [
      "Factorial of 10 is 3628800\n"
     ]
    }
   ],
   "source": [
    "import math\n",
    " \n",
    "def factorial(n):\n",
    "    return(math.factorial(n))\n",
    " \n",
    " \n",
    "# Driver Code\n",
    "num = 10\n",
    "print(\"Factorial of\", num, \"is\",\n",
    "      factorial(num))"
   ]
  },
  {
   "cell_type": "markdown",
   "id": "f6e3f6d2",
   "metadata": {},
   "source": [
    "8. Implement a function to check if a given number is prime."
   ]
  },
  {
   "cell_type": "code",
   "execution_count": 12,
   "id": "b83c23a9",
   "metadata": {},
   "outputs": [
    {
     "name": "stdout",
     "output_type": "stream",
     "text": [
      "True\n"
     ]
    }
   ],
   "source": [
    "import math\n",
    " \n",
    "def is_prime(n):\n",
    "    if n <= 1:\n",
    "        return False\n",
    "    for i in range(2, int(math.sqrt(n)) + 1):\n",
    "        if n % i == 0:\n",
    "            return False\n",
    "    return True\n",
    " \n",
    "n = 11\n",
    "print(is_prime(n))"
   ]
  },
  {
   "cell_type": "markdown",
   "id": "d0ad004d",
   "metadata": {},
   "source": [
    "9. Write a Python program to sort a list of integers in ascending order"
   ]
  },
  {
   "cell_type": "code",
   "execution_count": 13,
   "id": "28415f6c",
   "metadata": {},
   "outputs": [
    {
     "data": {
      "text/plain": [
       "[12, 21, 22, 23, 32, 34, 56, 78, 98]"
      ]
     },
     "execution_count": 13,
     "metadata": {},
     "output_type": "execute_result"
    }
   ],
   "source": [
    "list4=[23,34,56,78,98,32,22,21,12]\n",
    "list4.sort(reverse=False)\n",
    "list4"
   ]
  },
  {
   "cell_type": "markdown",
   "id": "c93273ed",
   "metadata": {},
   "source": [
    "10. Implement a function to find the sum of all numbers in a list."
   ]
  },
  {
   "cell_type": "code",
   "execution_count": 14,
   "id": "e5030cf4",
   "metadata": {},
   "outputs": [
    {
     "name": "stdout",
     "output_type": "stream",
     "text": [
      "376\n"
     ]
    }
   ],
   "source": [
    "list4=[23,34,56,78,98,32,22,21,12]\n",
    "\n",
    "sum=0\n",
    "\n",
    "for i in range(0,len(list4)):\n",
    "    sum=sum+list4[i]\n",
    "print(sum)    "
   ]
  },
  {
   "cell_type": "markdown",
   "id": "bb1a27dc",
   "metadata": {},
   "source": [
    "11. Write a program to find the common elements between two lists."
   ]
  },
  {
   "cell_type": "code",
   "execution_count": 15,
   "id": "82f1bdea",
   "metadata": {},
   "outputs": [
    {
     "data": {
      "text/plain": [
       "[12, 21, 22, 23, 56]"
      ]
     },
     "execution_count": 15,
     "metadata": {},
     "output_type": "execute_result"
    }
   ],
   "source": [
    "list4=[23,34,56,78,98,32,22,21,12]\n",
    "list5=[23,35,56,79,99,31,22,21,12]\n",
    "\n",
    "import numpy as np\n",
    "\n",
    "list(np.intersect1d(list4, list5))\n"
   ]
  },
  {
   "cell_type": "markdown",
   "id": "247734ea",
   "metadata": {},
   "source": [
    "12. Implement a function to check if a given string is an anagram of another string."
   ]
  },
  {
   "cell_type": "code",
   "execution_count": 16,
   "id": "5c49b334",
   "metadata": {},
   "outputs": [
    {
     "name": "stdout",
     "output_type": "stream",
     "text": [
      "race and care are anagram.\n"
     ]
    }
   ],
   "source": [
    "str1 = \"Race\"\n",
    "str2 = \"Care\"\n",
    "\n",
    "# convert both the strings into lowercase\n",
    "str1 = str1.lower()\n",
    "str2 = str2.lower()\n",
    "\n",
    "# check if length is same\n",
    "if(len(str1) == len(str2)):\n",
    "\n",
    "    # sort the strings\n",
    "    sorted_str1 = sorted(str1)\n",
    "    sorted_str2 = sorted(str2)\n",
    "\n",
    "    # if sorted char arrays are same\n",
    "    if(sorted_str1 == sorted_str2):\n",
    "        print(str1 + \" and \" + str2 + \" are anagram.\")\n",
    "    else:\n",
    "        print(str1 + \" and \" + str2 + \" are not anagram.\")\n",
    "\n",
    "else:\n",
    "    print(str1 + \" and \" + str2 + \" are not anagram.\")"
   ]
  },
  {
   "cell_type": "markdown",
   "id": "c1dbc3e2",
   "metadata": {},
   "source": [
    "13. Write a Python program to generate all permutations of a given string."
   ]
  },
  {
   "cell_type": "code",
   "execution_count": 17,
   "id": "21ba4909",
   "metadata": {},
   "outputs": [
    {
     "name": "stdout",
     "output_type": "stream",
     "text": [
      "['pro', 'por', 'rpo', 'rop', 'opr', 'orp']\n"
     ]
    }
   ],
   "source": [
    "from itertools import permutations\n",
    "\n",
    "words = [''.join(p) for p in permutations('pro')]\n",
    "\n",
    "print(words)"
   ]
  },
  {
   "cell_type": "markdown",
   "id": "cf57f4ec",
   "metadata": {},
   "source": [
    "14. Implement a function to calculate the Fibonacci sequence up to a given number of terms."
   ]
  },
  {
   "cell_type": "code",
   "execution_count": 18,
   "id": "3d4499a0",
   "metadata": {},
   "outputs": [
    {
     "name": "stdout",
     "output_type": "stream",
     "text": [
      "34\n"
     ]
    }
   ],
   "source": [
    "def fibonacci(n):\n",
    "    a = 0\n",
    "    b = 1\n",
    "    if n < 0:\n",
    "        print(\"Incorrect input\")\n",
    "    elif n == 0:\n",
    "        return a\n",
    "    elif n == 1:\n",
    "        return b\n",
    "    else:\n",
    "        for i in range(2, n+1):\n",
    "            c = a + b\n",
    "            a = b\n",
    "            b = c\n",
    "        return b\n",
    " \n",
    "# Driver Program\n",
    " \n",
    " \n",
    "print(fibonacci(9))"
   ]
  },
  {
   "cell_type": "markdown",
   "id": "8a851b36",
   "metadata": {},
   "source": [
    "15. Write a program to find the median of a list of numbers."
   ]
  },
  {
   "cell_type": "code",
   "execution_count": 19,
   "id": "2de56561",
   "metadata": {},
   "outputs": [
    {
     "data": {
      "text/plain": [
       "32.0"
      ]
     },
     "execution_count": 19,
     "metadata": {},
     "output_type": "execute_result"
    }
   ],
   "source": [
    "list4=[23,34,56,78,98,32,22,21,12]\n",
    "\n",
    "np.median(np.array(list4))"
   ]
  },
  {
   "cell_type": "markdown",
   "id": "23ac00a5",
   "metadata": {},
   "source": [
    "16. Implement a function to check if a given list is sorted in non-decreasing order."
   ]
  },
  {
   "cell_type": "code",
   "execution_count": 20,
   "id": "7e491b1f",
   "metadata": {},
   "outputs": [
    {
     "name": "stdout",
     "output_type": "stream",
     "text": [
      "Original list : [1, 4, 5, 8, 10]\n",
      "Yes, List is sorted.\n"
     ]
    }
   ],
   "source": [
    "test_list = [1, 4, 5, 8, 10]\n",
    " \n",
    "# printing original list\n",
    "print (\"Original list : \" + str(test_list))\n",
    " \n",
    "# using sorted() to\n",
    "# check sorted list\n",
    "flag = 0\n",
    "if(test_list == sorted(test_list)):\n",
    "    flag = 1\n",
    "     \n",
    "# printing result\n",
    "if (flag) :\n",
    "    print (\"Yes, List is sorted.\")\n",
    "else :\n",
    "    print (\"No, List is not sorted.\")"
   ]
  },
  {
   "cell_type": "markdown",
   "id": "984ef1b5",
   "metadata": {},
   "source": [
    "17. Write a Python program to find the intersection of two lists."
   ]
  },
  {
   "cell_type": "code",
   "execution_count": 21,
   "id": "afd05c31",
   "metadata": {},
   "outputs": [
    {
     "data": {
      "text/plain": [
       "[12, 21, 22, 23, 56]"
      ]
     },
     "execution_count": 21,
     "metadata": {},
     "output_type": "execute_result"
    }
   ],
   "source": [
    "list4=[23,34,56,78,98,32,22,21,12]\n",
    "list5=[23,35,56,79,99,31,22,21,12]\n",
    "\n",
    "import numpy as np\n",
    "\n",
    "list(np.intersect1d(list4, list5))"
   ]
  },
  {
   "cell_type": "markdown",
   "id": "7a9f78d4",
   "metadata": {},
   "source": [
    "18. Implement a function to find the maximum subarray sum in a given list."
   ]
  },
  {
   "cell_type": "code",
   "execution_count": 22,
   "id": "5e4a9c99",
   "metadata": {},
   "outputs": [
    {
     "name": "stdout",
     "output_type": "stream",
     "text": [
      "Maximum contiguous sum is  21\n"
     ]
    }
   ],
   "source": [
    "def maxCrossingSum(arr, l, m, h):\n",
    " \n",
    "    # Include elements on left of mid.\n",
    "    sm = 0\n",
    "    left_sum = -10000\n",
    " \n",
    "    for i in range(m, l-1, -1):\n",
    "        sm = sm + arr[i]\n",
    " \n",
    "        if (sm > left_sum):\n",
    "            left_sum = sm\n",
    " \n",
    "    # Include elements on right of mid\n",
    "    sm = 0\n",
    "    right_sum = -1000\n",
    "    for i in range(m, h + 1):\n",
    "        sm = sm + arr[i]\n",
    " \n",
    "        if (sm > right_sum):\n",
    "            right_sum = sm\n",
    " \n",
    "    # Return sum of elements on left and right of mid\n",
    "    # returning only left_sum + right_sum will fail for [-2, 1]\n",
    "    return max(left_sum + right_sum - arr[m], left_sum, right_sum)\n",
    " \n",
    " \n",
    "# Returns sum of maximum sum subarray in aa[l..h]\n",
    "def maxSubArraySum(arr, l, h):\n",
    "    #Invalid Range: low is greater than high\n",
    "    if (l > h):\n",
    "        return -10000\n",
    "    # Base Case: Only one element\n",
    "    if (l == h):\n",
    "        return arr[l]\n",
    " \n",
    "    # Find middle point\n",
    "    m = (l + h) // 2\n",
    " \n",
    "    # Return maximum of following three possible cases\n",
    "    # a) Maximum subarray sum in left half\n",
    "    # b) Maximum subarray sum in right half\n",
    "    # c) Maximum subarray sum such that the\n",
    "    #     subarray crosses the midpoint\n",
    "    return max(maxSubArraySum(arr, l, m-1),\n",
    "               maxSubArraySum(arr, m+1, h),\n",
    "               maxCrossingSum(arr, l, m, h))\n",
    " \n",
    " \n",
    "# Driver Code\n",
    "arr = [2, 3, 4, 5, 7]\n",
    "n = len(arr)\n",
    " \n",
    "max_sum = maxSubArraySum(arr, 0, n-1)\n",
    "print(\"Maximum contiguous sum is \", max_sum)\n"
   ]
  },
  {
   "cell_type": "markdown",
   "id": "b6dbad9a",
   "metadata": {},
   "source": [
    "19. Write a program to remove all vowels from a given string."
   ]
  },
  {
   "cell_type": "code",
   "execution_count": 23,
   "id": "a54d3b4e",
   "metadata": {},
   "outputs": [],
   "source": [
    "def rem_vowel(string):\n",
    "    vowels = ['a','e','i','o','u']\n",
    "    result = [letter for letter in string if letter.lower() not in vowels]\n",
    "    result = ''.join(result)\n",
    "    print(result)"
   ]
  },
  {
   "cell_type": "code",
   "execution_count": 24,
   "id": "9a756755",
   "metadata": {},
   "outputs": [
    {
     "name": "stdout",
     "output_type": "stream",
     "text": [
      "m  cl gy\n"
     ]
    }
   ],
   "source": [
    "rem_vowel(\"am I cool guy\")"
   ]
  },
  {
   "cell_type": "markdown",
   "id": "3c37cff9",
   "metadata": {},
   "source": [
    "20. Implement a function to reverse the order of words in a given sentence."
   ]
  },
  {
   "cell_type": "code",
   "execution_count": 25,
   "id": "b7a6d7fc",
   "metadata": {},
   "outputs": [
    {
     "data": {
      "text/plain": [
       "'nohtyp'"
      ]
     },
     "execution_count": 25,
     "metadata": {},
     "output_type": "execute_result"
    }
   ],
   "source": [
    "st='python'\n",
    "st[::-1]"
   ]
  },
  {
   "cell_type": "markdown",
   "id": "3ca5bfa0",
   "metadata": {},
   "source": [
    "21. Write a Python program to check if two strings are anagrams of each other"
   ]
  },
  {
   "cell_type": "code",
   "execution_count": 26,
   "id": "586957ee",
   "metadata": {},
   "outputs": [
    {
     "name": "stdout",
     "output_type": "stream",
     "text": [
      "race and care are anagram.\n"
     ]
    }
   ],
   "source": [
    "str1 = \"Race\"\n",
    "str2 = \"Care\"\n",
    "\n",
    "# convert both the strings into lowercase\n",
    "str1 = str1.lower()\n",
    "str2 = str2.lower()\n",
    "\n",
    "# check if length is same\n",
    "if(len(str1) == len(str2)):\n",
    "\n",
    "    # sort the strings\n",
    "    sorted_str1 = sorted(str1)\n",
    "    sorted_str2 = sorted(str2)\n",
    "\n",
    "    # if sorted char arrays are same\n",
    "    if(sorted_str1 == sorted_str2):\n",
    "        print(str1 + \" and \" + str2 + \" are anagram.\")\n",
    "    else:\n",
    "        print(str1 + \" and \" + str2 + \" are not anagram.\")\n",
    "\n",
    "else:\n",
    "    print(str1 + \" and \" + str2 + \" are not anagram.\")"
   ]
  },
  {
   "cell_type": "markdown",
   "id": "885885df",
   "metadata": {},
   "source": [
    "22. Implement a function to find the first non-repeating character in a string."
   ]
  },
  {
   "cell_type": "code",
   "execution_count": 27,
   "id": "b23c9eaf",
   "metadata": {},
   "outputs": [
    {
     "name": "stdout",
     "output_type": "stream",
     "text": [
      "First non-repeating character is : P\n"
     ]
    }
   ],
   "source": [
    "str = \"PATHSHALA\"\n",
    "flag = 0\n",
    "for i in str:\n",
    "    if str.count(i) == 1:\n",
    "        print(\"First non-repeating character is :\", i)\n",
    "        flag = 1\n",
    "        break\n",
    "if flag == 0:\n",
    "    print(\"No non-repeating character\")"
   ]
  },
  {
   "cell_type": "markdown",
   "id": "faa2449d",
   "metadata": {},
   "source": [
    "23. Write a program to find the prime factors of a given number."
   ]
  },
  {
   "cell_type": "code",
   "execution_count": 28,
   "id": "13214ab7",
   "metadata": {},
   "outputs": [
    {
     "name": "stdout",
     "output_type": "stream",
     "text": [
      " Please enter any number: 10\n",
      " 2 is a Prime Factor of the given number 10\n",
      " 5 is a Prime Factor of the given number 10\n"
     ]
    }
   ],
   "source": [
    "num = int(input(\" Please enter any number: \"))\n",
    "\n",
    "x = 1\n",
    "\n",
    "while(x <= num):\n",
    "    count = 0\n",
    "    if(num % x == 0):\n",
    "        y = 1\n",
    "        while(y <= x):\n",
    "            if(x % y == 0):\n",
    "                count = count + 1\n",
    "            y = y + 1\n",
    "            \n",
    "        if (count == 2):\n",
    "            print(\" %d is a Prime Factor of the given number %d\" %(x, num))\n",
    "    x = x + 1"
   ]
  },
  {
   "cell_type": "markdown",
   "id": "2489f4c7",
   "metadata": {},
   "source": [
    "24.. Implement a function to check if a given number is a power of two."
   ]
  },
  {
   "cell_type": "code",
   "execution_count": 29,
   "id": "9af57790",
   "metadata": {},
   "outputs": [],
   "source": [
    "def powerof2(n):\n",
    " \n",
    "    # base cases\n",
    "    # '1' is the only odd number\n",
    "    # which is a power of 2(2^0)\n",
    "    if n == 1:\n",
    "        return True\n",
    " \n",
    "    # all other odd numbers are not powers of 2\n",
    "    elif n % 2 != 0 or n == 0:\n",
    "        return False\n",
    " \n",
    "    # recursive function call\n",
    "    return powerof2(n/2)\n",
    " \n",
    " \n"
   ]
  },
  {
   "cell_type": "code",
   "execution_count": 30,
   "id": "f8c06dfc",
   "metadata": {},
   "outputs": [
    {
     "data": {
      "text/plain": [
       "True"
      ]
     },
     "execution_count": 30,
     "metadata": {},
     "output_type": "execute_result"
    }
   ],
   "source": [
    "powerof2(4)"
   ]
  },
  {
   "cell_type": "markdown",
   "id": "1623878d",
   "metadata": {},
   "source": [
    "25. Write a Python program to merge two sorted lists into a single sorted list."
   ]
  },
  {
   "cell_type": "code",
   "execution_count": 31,
   "id": "e09c4bce",
   "metadata": {},
   "outputs": [
    {
     "name": "stdout",
     "output_type": "stream",
     "text": [
      "[12, 21, 22, 23, 23, 31, 32, 34, 35, 56, 56, 78, 79, 98, 99]\n"
     ]
    }
   ],
   "source": [
    "list4=[23,34,56,78,98,32,22,21,12]\n",
    "list5=[23,35,56,79,99,31]\n",
    "\n",
    "import numpy as np\n",
    "\n",
    "print(sorted(list4 + list5))"
   ]
  },
  {
   "cell_type": "markdown",
   "id": "251f9c6b",
   "metadata": {},
   "source": [
    "26. Implement a function to find the mode of a list of numbers."
   ]
  },
  {
   "cell_type": "code",
   "execution_count": 32,
   "id": "28be45c7",
   "metadata": {},
   "outputs": [
    {
     "data": {
      "text/plain": [
       "23"
      ]
     },
     "execution_count": 32,
     "metadata": {},
     "output_type": "execute_result"
    }
   ],
   "source": [
    "list4=[23,34,56,78,98,32,22,21,12]\n",
    "import statistics\n",
    "\n",
    "statistics.mode(list4)\n"
   ]
  },
  {
   "cell_type": "markdown",
   "id": "e9c1b92e",
   "metadata": {},
   "source": [
    "27 Write a program to find the greatest common divisor (GCD) of two numbers."
   ]
  },
  {
   "cell_type": "code",
   "execution_count": 33,
   "id": "b451c190",
   "metadata": {},
   "outputs": [],
   "source": [
    "def gcd(a, b):\n",
    " \n",
    "    # Find minimum of a and b\n",
    "    result = min(a, b)\n",
    " \n",
    "    while result:\n",
    "        if a % result == 0 and b % result == 0:\n",
    "            break\n",
    "        result -= 1\n",
    " \n",
    "    # Return the gcd of a and b\n",
    "    return result"
   ]
  },
  {
   "cell_type": "code",
   "execution_count": 34,
   "id": "06f7bf35",
   "metadata": {},
   "outputs": [
    {
     "data": {
      "text/plain": [
       "2"
      ]
     },
     "execution_count": 34,
     "metadata": {},
     "output_type": "execute_result"
    }
   ],
   "source": [
    "gcd(12,14)"
   ]
  },
  {
   "cell_type": "markdown",
   "id": "5dff5b33",
   "metadata": {},
   "source": [
    "28 Implement a function to calculate the square root of a given number."
   ]
  },
  {
   "cell_type": "code",
   "execution_count": 35,
   "id": "33ff0113",
   "metadata": {},
   "outputs": [
    {
     "name": "stdout",
     "output_type": "stream",
     "text": [
      "10\n",
      "The squire root of 10 is 3.1622776601683795\n"
     ]
    }
   ],
   "source": [
    "import math\n",
    "\n",
    "num=int(input())\n",
    "print(f'The squire root of {num} is {math.sqrt(num)}')\n"
   ]
  },
  {
   "cell_type": "markdown",
   "id": "ebdd9013",
   "metadata": {},
   "source": [
    "29 Write a Python program to check if a given string is a valid palindrome ignoring non-alphanumeric characters."
   ]
  },
  {
   "cell_type": "code",
   "execution_count": 36,
   "id": "b412ba2c",
   "metadata": {},
   "outputs": [
    {
     "name": "stdout",
     "output_type": "stream",
     "text": [
      " palindrome\n"
     ]
    }
   ],
   "source": [
    "import re\n",
    "string_value = \"ab@a\"\n",
    "s=re.sub(r'[\\W_]+', '', string_value)\n",
    "if s==s[::-1]:\n",
    "    print(\" palindrome\")\n",
    "else:\n",
    "    print(\" not palindrome\")\n"
   ]
  },
  {
   "cell_type": "markdown",
   "id": "ac851980",
   "metadata": {},
   "source": [
    "30. Implement a function to find the minimum element in a rotated sorted list."
   ]
  },
  {
   "cell_type": "code",
   "execution_count": 37,
   "id": "924a6dab",
   "metadata": {},
   "outputs": [
    {
     "data": {
      "text/plain": [
       "4"
      ]
     },
     "execution_count": 37,
     "metadata": {},
     "output_type": "execute_result"
    }
   ],
   "source": [
    "list1.sort()\n",
    "list1[0]"
   ]
  },
  {
   "cell_type": "markdown",
   "id": "52d9b779",
   "metadata": {},
   "source": [
    "31. Write a program to find the sum of all even numbers in a list."
   ]
  },
  {
   "cell_type": "code",
   "execution_count": 38,
   "id": "f050ea01",
   "metadata": {},
   "outputs": [
    {
     "name": "stdout",
     "output_type": "stream",
     "text": [
      "original list is [23, 34, 56, 78, 98, 32, 22, 21, 12]\n",
      "sum of [34, 56, 78, 98, 32, 22, 12] is 332\n"
     ]
    }
   ],
   "source": [
    "list4\n",
    "even_list=[]\n",
    "for i in list4:\n",
    "    if i%2==0:\n",
    "        even_list.append(i)\n",
    "    else:\n",
    "        pass\n",
    "print(f'original list is {list4}')    \n",
    "print(f'sum of {even_list} is {np.array(even_list).sum()}')        \n",
    "        "
   ]
  },
  {
   "cell_type": "markdown",
   "id": "dc47153a",
   "metadata": {},
   "source": [
    "32. Implement a function to calculate the power of a number using recursion"
   ]
  },
  {
   "cell_type": "code",
   "execution_count": 39,
   "id": "265f2406",
   "metadata": {},
   "outputs": [],
   "source": [
    "def power(N, P):\n",
    " \n",
    "    # If power is 0 then return 1\n",
    "    # if condition is true\n",
    "    # only then it will enter it,\n",
    "    # otherwise not\n",
    "    if P == 0:\n",
    "        return 1\n",
    " \n",
    "    # Recurrence relation\n",
    "    return (N*power(N, P-1))"
   ]
  },
  {
   "cell_type": "code",
   "execution_count": 40,
   "id": "97447b9c",
   "metadata": {},
   "outputs": [
    {
     "data": {
      "text/plain": [
       "4"
      ]
     },
     "execution_count": 40,
     "metadata": {},
     "output_type": "execute_result"
    }
   ],
   "source": [
    "power(2,2)"
   ]
  },
  {
   "cell_type": "markdown",
   "id": "cc247058",
   "metadata": {},
   "source": [
    "33. Write a Python program to remove duplicates from a list while preserving the order."
   ]
  },
  {
   "cell_type": "code",
   "execution_count": 41,
   "id": "72706674",
   "metadata": {},
   "outputs": [
    {
     "data": {
      "text/plain": [
       "[2, 4, 6, 7, 8, 22, 23, 34, 45, 54, 76]"
      ]
     },
     "execution_count": 41,
     "metadata": {},
     "output_type": "execute_result"
    }
   ],
   "source": [
    "list6=[23,34,45,22,54,76,34,2,4,6,7,8,8]\n",
    "a=list(set(list6))\n",
    "a.sort()\n",
    "a\n"
   ]
  },
  {
   "cell_type": "markdown",
   "id": "7a19742a",
   "metadata": {},
   "source": [
    "34. Implement a function to find the longest common prefix among a list of strings."
   ]
  },
  {
   "cell_type": "code",
   "execution_count": 42,
   "id": "39ef03e6",
   "metadata": {},
   "outputs": [],
   "source": [
    "def longestCommonPrefix(S):\n",
    "    if \"\" in S or S == []:\n",
    "        return \"\"\n",
    "    preix = S[0]\n",
    "    for i in range(1,len(S)):\n",
    "        while(preix != \"\"):\n",
    "            try:\n",
    "                if str.index(str(S[i]),preix) == 0:\n",
    "                    break\n",
    "                else:\n",
    "                    preix = preix[:-1]\n",
    "            except:\n",
    "                \n",
    "                preix = preix[:-1]\n",
    "    return preix"
   ]
  },
  {
   "cell_type": "code",
   "execution_count": 43,
   "id": "12485843",
   "metadata": {},
   "outputs": [
    {
     "data": {
      "text/plain": [
       "''"
      ]
     },
     "execution_count": 43,
     "metadata": {},
     "output_type": "execute_result"
    }
   ],
   "source": [
    "s = ['flower', 'flow', 'fligddht']\n",
    "longestCommonPrefix(s)"
   ]
  },
  {
   "cell_type": "markdown",
   "id": "f2ab48f6",
   "metadata": {},
   "source": [
    "35 Write a program to check if a given number is a perfect square."
   ]
  },
  {
   "cell_type": "code",
   "execution_count": 44,
   "id": "776ff5f9",
   "metadata": {},
   "outputs": [
    {
     "name": "stdout",
     "output_type": "stream",
     "text": [
      "perfect square\n"
     ]
    }
   ],
   "source": [
    "def checkperfectsquare(x):\n",
    "     \n",
    "    # If ceil and floor are equal\n",
    "    # the number is a perfect\n",
    "    # square\n",
    "    if (math.ceil(math.sqrt(n)) ==\n",
    "       math.floor(math.sqrt(n))):\n",
    "        print(\"perfect square\")\n",
    "    else:\n",
    "        print(\"not a perfect square\")\n",
    "     \n",
    "# Driver code\n",
    "n = 49\n",
    "  \n",
    "checkperfectsquare(n)"
   ]
  },
  {
   "cell_type": "markdown",
   "id": "80a5daf5",
   "metadata": {},
   "source": [
    "36 . Implement a function to calculate the product of all elements in a list."
   ]
  },
  {
   "cell_type": "code",
   "execution_count": 45,
   "id": "37153901",
   "metadata": {},
   "outputs": [],
   "source": [
    "def mul_prod(l):\n",
    "    ll=1\n",
    "    for i in l:\n",
    "        ll=ll*i\n",
    "    return ll    "
   ]
  },
  {
   "cell_type": "code",
   "execution_count": 46,
   "id": "38c8c93c",
   "metadata": {},
   "outputs": [
    {
     "data": {
      "text/plain": [
       "90"
      ]
     },
     "execution_count": 46,
     "metadata": {},
     "output_type": "execute_result"
    }
   ],
   "source": [
    "mul_prod([2,3,3,5])"
   ]
  },
  {
   "cell_type": "markdown",
   "id": "fcb86f60",
   "metadata": {},
   "source": [
    "37. Write a Python program to reverse the order of words in a sentence while preserving the word order"
   ]
  },
  {
   "cell_type": "code",
   "execution_count": 47,
   "id": "456195c8",
   "metadata": {},
   "outputs": [
    {
     "data": {
      "text/plain": [
       "'nohtyp'"
      ]
     },
     "execution_count": 47,
     "metadata": {},
     "output_type": "execute_result"
    }
   ],
   "source": [
    "words='python'\n",
    "words[::-1]"
   ]
  },
  {
   "cell_type": "markdown",
   "id": "64582324",
   "metadata": {},
   "source": [
    "38. Implement a function to find the missing number in a given list of consecutive numbers."
   ]
  },
  {
   "cell_type": "code",
   "execution_count": 48,
   "id": "5dce3e61",
   "metadata": {},
   "outputs": [],
   "source": [
    "def findMissing(arr, N):\n",
    "   \n",
    "    # create a list of zeroes\n",
    "    temp = [0] * (N+1)\n",
    " \n",
    "    for i in range(0, N):\n",
    "        temp[arr[i] - 1] = 1\n",
    " \n",
    "    for i in range(0, N+1):\n",
    "        if(temp[i] == 0):\n",
    "            ans = i + 1\n",
    " \n",
    "    print(ans)"
   ]
  },
  {
   "cell_type": "code",
   "execution_count": 49,
   "id": "2fdf7ff6",
   "metadata": {},
   "outputs": [
    {
     "name": "stdout",
     "output_type": "stream",
     "text": [
      "2\n"
     ]
    }
   ],
   "source": [
    "findMissing([1,3,4,5],4)"
   ]
  },
  {
   "cell_type": "markdown",
   "id": "c3e770e8",
   "metadata": {},
   "source": [
    "39. Write a program to find the sum of digits of a given number."
   ]
  },
  {
   "cell_type": "code",
   "execution_count": 50,
   "id": "52fa087c",
   "metadata": {},
   "outputs": [],
   "source": [
    "dig=123\n"
   ]
  },
  {
   "cell_type": "code",
   "execution_count": 51,
   "id": "ec9bae6d",
   "metadata": {},
   "outputs": [],
   "source": [
    "def getSum(n):\n",
    " \n",
    "    sum = 0\n",
    " \n",
    "    # Single line that calculates sum\n",
    "    while(n > 0):\n",
    "        sum += int(n % 10)\n",
    "        n = int(n/10)\n",
    " \n",
    "    return sum"
   ]
  },
  {
   "cell_type": "code",
   "execution_count": 52,
   "id": "e728211d",
   "metadata": {},
   "outputs": [
    {
     "data": {
      "text/plain": [
       "10"
      ]
     },
     "execution_count": 52,
     "metadata": {},
     "output_type": "execute_result"
    }
   ],
   "source": [
    "getSum(1234)"
   ]
  },
  {
   "cell_type": "markdown",
   "id": "1fe9a7ca",
   "metadata": {},
   "source": [
    "40. Implement a function to check if a given string is a valid palindrome considering case sensitivity."
   ]
  },
  {
   "cell_type": "code",
   "execution_count": 53,
   "id": "8e21acd3",
   "metadata": {},
   "outputs": [],
   "source": [
    "def is_palindrome(s):\n",
    "    sr=s[::-1]\n",
    "    if s==sr:\n",
    "        print(\"palindrome\")\n",
    "    else:\n",
    "        print(\" not palindrome\")"
   ]
  },
  {
   "cell_type": "code",
   "execution_count": 55,
   "id": "49ca9f48",
   "metadata": {},
   "outputs": [
    {
     "name": "stdout",
     "output_type": "stream",
     "text": [
      "palindrome\n"
     ]
    }
   ],
   "source": [
    "is_palindrome(\"madam\")"
   ]
  },
  {
   "cell_type": "markdown",
   "id": "ce0818fa",
   "metadata": {},
   "source": [
    "41. Write a Python program to find the smallest missing positive integer in a list."
   ]
  },
  {
   "cell_type": "code",
   "execution_count": null,
   "id": "c27fcb63",
   "metadata": {},
   "outputs": [],
   "source": []
  }
 ],
 "metadata": {
  "kernelspec": {
   "display_name": "Python 3 (ipykernel)",
   "language": "python",
   "name": "python3"
  },
  "language_info": {
   "codemirror_mode": {
    "name": "ipython",
    "version": 3
   },
   "file_extension": ".py",
   "mimetype": "text/x-python",
   "name": "python",
   "nbconvert_exporter": "python",
   "pygments_lexer": "ipython3",
   "version": "3.9.12"
  }
 },
 "nbformat": 4,
 "nbformat_minor": 5
}
