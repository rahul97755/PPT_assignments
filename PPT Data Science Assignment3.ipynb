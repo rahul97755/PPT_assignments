{
 "cells": [
  {
   "cell_type": "markdown",
   "id": "95c7c34e",
   "metadata": {},
   "source": [
    "#1. Scenario: A company wants to analyze the sales performance of its products #in different regions. They have collected the following data:\n",
    "* Region A: [10, 15, 12, 8, 14]\n",
    "* Region B: [18, 20, 16, 22, 25]\n",
    "* Calculate the mean sales for each region.\n"
   ]
  },
  {
   "cell_type": "code",
   "execution_count": 2,
   "id": "cce97553",
   "metadata": {},
   "outputs": [],
   "source": [
    "regA=[10, 15, 12, 8, 14]\n",
    "regB= [18, 20, 16, 22, 25]"
   ]
  },
  {
   "cell_type": "code",
   "execution_count": 9,
   "id": "d38288cd",
   "metadata": {},
   "outputs": [],
   "source": [
    "from statistics import mean\n",
    " \n",
    "def Average(lst):\n",
    "    return mean(lst)"
   ]
  },
  {
   "cell_type": "code",
   "execution_count": 17,
   "id": "f64d5b5c",
   "metadata": {},
   "outputs": [
    {
     "name": "stdout",
     "output_type": "stream",
     "text": [
      "The mean of list: regA is 11.8 and mean of list:regB is 20.2\n"
     ]
    }
   ],
   "source": [
    "print( f'The mean of list: regA is {Average(regA)} and mean of list:regB is {Average(regB)}')"
   ]
  },
  {
   "cell_type": "markdown",
   "id": "d76efef4",
   "metadata": {},
   "source": [
    "#2. Scenario: A survey is conducted to measure customer satisfaction on a scale of 1 to 5. The data collected is as follows:\n",
    "* [4, 5, 2, 3, 5, 4, 3, 2, 4, 5]\n",
    "* Calculate the mode of the survey responses.\n"
   ]
  },
  {
   "cell_type": "code",
   "execution_count": 24,
   "id": "bd24e2c1",
   "metadata": {},
   "outputs": [
    {
     "name": "stdout",
     "output_type": "stream",
     "text": [
      "The mode of the list is 4\n"
     ]
    }
   ],
   "source": [
    "ser=[4, 5, 2, 3, 5, 4, 3, 2, 4, 5]\n",
    "from statistics import mode\n",
    "print(f'The mode of the list is {mode(ser)}')"
   ]
  },
  {
   "cell_type": "markdown",
   "id": "a992e5bb",
   "metadata": {},
   "source": [
    "#3. Scenario: A company wants to compare the salaries of two departments. The salary data for Department A and Department B are as follows:\n",
    "* Department A: [5000, 6000, 5500, 7000]\n",
    "* Department B: [4500, 5500, 5800, 6000, 5200]\n",
    "* Calculate the median salary for each department.\n"
   ]
  },
  {
   "cell_type": "code",
   "execution_count": 27,
   "id": "4fde913b",
   "metadata": {},
   "outputs": [
    {
     "name": "stdout",
     "output_type": "stream",
     "text": [
      "The median salary of Department A is 5750.0\n",
      "The median salary of Department B is 5500\n"
     ]
    }
   ],
   "source": [
    "from statistics import median\n",
    "DepartmentA= [5000, 6000, 5500, 7000]\n",
    "DepartmentB=[4500, 5500, 5800, 6000, 5200]\n",
    "\n",
    "print(f'The median salary of Department A is {median(DepartmentA)}')\n",
    "print(f'The median salary of Department B is {median(DepartmentB)}')\n"
   ]
  },
  {
   "cell_type": "markdown",
   "id": "9de3d539",
   "metadata": {},
   "source": [
    "#4Scenario: A data analyst wants to determine the variability in the daily stock prices of a company. The data collected is as follows:\n",
    "* [25.5, 24.8, 26.1, 25.3, 24.9] \n",
    "* Calculate the range of the stock prices.\n"
   ]
  },
  {
   "cell_type": "code",
   "execution_count": 31,
   "id": "c2ed33dc",
   "metadata": {},
   "outputs": [
    {
     "ename": "ImportError",
     "evalue": "cannot import name 'min' from 'statistics' (C:\\Users\\rahul\\anaconda3\\lib\\statistics.py)",
     "output_type": "error",
     "traceback": [
      "\u001b[1;31m---------------------------------------------------------------------------\u001b[0m",
      "\u001b[1;31mImportError\u001b[0m                               Traceback (most recent call last)",
      "Input \u001b[1;32mIn [31]\u001b[0m, in \u001b[0;36m<cell line: 2>\u001b[1;34m()\u001b[0m\n\u001b[0;32m      1\u001b[0m stocks\u001b[38;5;241m=\u001b[39m[\u001b[38;5;241m25.5\u001b[39m, \u001b[38;5;241m24.8\u001b[39m, \u001b[38;5;241m26.1\u001b[39m, \u001b[38;5;241m25.3\u001b[39m, \u001b[38;5;241m24.9\u001b[39m]\n\u001b[1;32m----> 2\u001b[0m \u001b[38;5;28;01mfrom\u001b[39;00m \u001b[38;5;21;01mstatistics\u001b[39;00m \u001b[38;5;28;01mimport\u001b[39;00m median,\u001b[38;5;28mmin\u001b[39m,\u001b[38;5;28mmax\u001b[39m\n",
      "\u001b[1;31mImportError\u001b[0m: cannot import name 'min' from 'statistics' (C:\\Users\\rahul\\anaconda3\\lib\\statistics.py)"
     ]
    }
   ],
   "source": [
    "stocks=[25.5, 24.8, 26.1, 25.3, 24.9]\n",
    "from statistics import median,min,max"
   ]
  },
  {
   "cell_type": "markdown",
   "id": "bce677a4",
   "metadata": {},
   "source": [
    "#5.Scenario: A study is conducted to compare the performance of two different teaching methods. The test scores of the students in each group are as follows:\n",
    "* Group A: [85, 90, 92, 88, 91]\n",
    "* Group B: [82, 88, 90, 86, 87]\n",
    "* Perform a t-test to determine if there is a significant difference in the mean scores between the two groups.\n"
   ]
  },
  {
   "cell_type": "code",
   "execution_count": 55,
   "id": "4ba5ee2e",
   "metadata": {},
   "outputs": [],
   "source": [
    "import scipy.stats as stats\n",
    "\n",
    "group1=[85, 90, 92, 88, 91]\n",
    "group2=[82, 88, 90, 86, 87]\n"
   ]
  },
  {
   "cell_type": "markdown",
   "id": "856ac100",
   "metadata": {},
   "source": [
    "* H0: There is no significance differance between group1 and group 2\n",
    "* H1:There is a significance differance between group1 and group3'''"
   ]
  },
  {
   "cell_type": "code",
   "execution_count": 49,
   "id": "b3cf33cf",
   "metadata": {},
   "outputs": [
    {
     "data": {
      "text/plain": [
       "Ttest_indResult(statistic=1.4312528946642733, pvalue=0.19023970239078333)"
      ]
     },
     "execution_count": 49,
     "metadata": {},
     "output_type": "execute_result"
    }
   ],
   "source": [
    "stats.ttest_ind(a=group1, b=group2, equal_var=True)"
   ]
  },
  {
   "cell_type": "markdown",
   "id": "8eb01f26",
   "metadata": {},
   "source": [
    "As P value is >0.05 or the confidance label \n",
    "so we failed to reject null hypothisis \n",
    "so there is no significance differance between group A and grpup B'''"
   ]
  },
  {
   "cell_type": "markdown",
   "id": "732c9919",
   "metadata": {},
   "source": [
    "6.Scenario: A company wants to analyze the relationship between advertising expenditure and sales. The data collected is as follows:\n",
    "* Advertising Expenditure (in thousands): [10, 15, 12, 8, 14]\n",
    "* Sales (in thousands): [25, 30, 28, 20, 26]\n",
    "* Calculate the correlation coefficient between advertising expenditure and sales.\n"
   ]
  },
  {
   "cell_type": "code",
   "execution_count": 70,
   "id": "b996a912",
   "metadata": {},
   "outputs": [
    {
     "name": "stdout",
     "output_type": "stream",
     "text": [
      "             expendature     sales\n",
      "expendature     1.000000  0.875751\n",
      "sales           0.875751  1.000000\n",
      "there is 87% correletion between expendature and sales\n"
     ]
    }
   ],
   "source": [
    "import pandas as pd\n",
    "\n",
    "exp=[10, 15, 12, 8, 14]\n",
    "sales=[25, 30, 28, 20, 26]\n",
    "\n",
    "salesdf=pd.DataFrame(list(zip(exp,sales)),columns=['expendature','sales'])\n",
    "print(salesdf.corr())\n",
    "\n",
    "print(f'there is 87% correletion between expendature and sales')"
   ]
  },
  {
   "cell_type": "markdown",
   "id": "8afe0ad5",
   "metadata": {},
   "source": [
    "7. Scenario: A survey is conducted to measure the heights of a group of people. The data collected is as follows:\n",
    "* [160, 170, 165, 155, 175, 180, 170]\n",
    "* Calculate the standard deviation of the heights.\n"
   ]
  },
  {
   "cell_type": "code",
   "execution_count": 72,
   "id": "06ae64cb",
   "metadata": {},
   "outputs": [
    {
     "name": "stdout",
     "output_type": "stream",
     "text": [
      "standard deviation of the heights. is 8.591246929842246\n"
     ]
    }
   ],
   "source": [
    "ser=[160, 170, 165, 155, 175, 180, 170]\n",
    "from statistics import stdev\n",
    "print(f'standard deviation of the heights. is {stdev(ser)}')"
   ]
  },
  {
   "cell_type": "markdown",
   "id": "923c076f",
   "metadata": {},
   "source": [
    "8. Scenario: A company wants to analyze the relationship between employee tenure and job satisfaction. The data collected is as follows:\n",
    "* Employee Tenure (in years): [2, 3, 5, 4, 6, 2, 4]\n",
    "* Job Satisfaction (on a scale of 1 to 10): [7, 8, 6, 9, 5, 7, 6]\n",
    "* Perform a linear regression analysis to predict job satisfaction based on employee tenure.\n"
   ]
  },
  {
   "cell_type": "code",
   "execution_count": 73,
   "id": "7d9ad9a6",
   "metadata": {},
   "outputs": [],
   "source": [
    "tenure=[2, 3, 5, 4, 6, 2, 4]\n",
    "jobsat= [7, 8, 6, 9, 5, 7, 6]\n",
    "\n",
    "emp=pd.DataFrame(list(zip(tenure,jobsat)),columns=['tenure','job_satisfiction'])\n",
    "\n"
   ]
  },
  {
   "cell_type": "code",
   "execution_count": 79,
   "id": "a79f9728",
   "metadata": {},
   "outputs": [
    {
     "name": "stderr",
     "output_type": "stream",
     "text": [
      "C:\\Users\\rahul\\anaconda3\\lib\\site-packages\\statsmodels\\stats\\stattools.py:74: ValueWarning: omni_normtest is not valid with less than 8 observations; 7 samples were given.\n",
      "  warn(\"omni_normtest is not valid with less than 8 observations; %i \"\n"
     ]
    },
    {
     "data": {
      "text/html": [
       "<table class=\"simpletable\">\n",
       "<caption>OLS Regression Results</caption>\n",
       "<tr>\n",
       "  <th>Dep. Variable:</th>    <td>job_satisfiction</td> <th>  R-squared:         </th> <td>   0.271</td>\n",
       "</tr>\n",
       "<tr>\n",
       "  <th>Model:</th>                   <td>OLS</td>       <th>  Adj. R-squared:    </th> <td>   0.125</td>\n",
       "</tr>\n",
       "<tr>\n",
       "  <th>Method:</th>             <td>Least Squares</td>  <th>  F-statistic:       </th> <td>   1.859</td>\n",
       "</tr>\n",
       "<tr>\n",
       "  <th>Date:</th>             <td>Thu, 13 Jul 2023</td> <th>  Prob (F-statistic):</th>  <td> 0.231</td> \n",
       "</tr>\n",
       "<tr>\n",
       "  <th>Time:</th>                 <td>12:27:08</td>     <th>  Log-Likelihood:    </th> <td> -10.362</td>\n",
       "</tr>\n",
       "<tr>\n",
       "  <th>No. Observations:</th>      <td>     7</td>      <th>  AIC:               </th> <td>   24.72</td>\n",
       "</tr>\n",
       "<tr>\n",
       "  <th>Df Residuals:</th>          <td>     5</td>      <th>  BIC:               </th> <td>   24.62</td>\n",
       "</tr>\n",
       "<tr>\n",
       "  <th>Df Model:</th>              <td>     1</td>      <th>                     </th>     <td> </td>   \n",
       "</tr>\n",
       "<tr>\n",
       "  <th>Covariance Type:</th>      <td>nonrobust</td>    <th>                     </th>     <td> </td>   \n",
       "</tr>\n",
       "</table>\n",
       "<table class=\"simpletable\">\n",
       "<tr>\n",
       "      <td></td>         <th>coef</th>     <th>std err</th>      <th>t</th>      <th>P>|t|</th>  <th>[0.025</th>    <th>0.975]</th>  \n",
       "</tr>\n",
       "<tr>\n",
       "  <th>Intercept</th> <td>    8.5957</td> <td>    1.361</td> <td>    6.316</td> <td> 0.001</td> <td>    5.097</td> <td>   12.094</td>\n",
       "</tr>\n",
       "<tr>\n",
       "  <th>tenure</th>    <td>   -0.4681</td> <td>    0.343</td> <td>   -1.363</td> <td> 0.231</td> <td>   -1.351</td> <td>    0.414</td>\n",
       "</tr>\n",
       "</table>\n",
       "<table class=\"simpletable\">\n",
       "<tr>\n",
       "  <th>Omnibus:</th>       <td>   nan</td> <th>  Durbin-Watson:     </th> <td>   2.414</td>\n",
       "</tr>\n",
       "<tr>\n",
       "  <th>Prob(Omnibus):</th> <td>   nan</td> <th>  Jarque-Bera (JB):  </th> <td>   1.954</td>\n",
       "</tr>\n",
       "<tr>\n",
       "  <th>Skew:</th>          <td> 1.292</td> <th>  Prob(JB):          </th> <td>   0.376</td>\n",
       "</tr>\n",
       "<tr>\n",
       "  <th>Kurtosis:</th>      <td> 3.166</td> <th>  Cond. No.          </th> <td>    12.0</td>\n",
       "</tr>\n",
       "</table><br/><br/>Notes:<br/>[1] Standard Errors assume that the covariance matrix of the errors is correctly specified."
      ],
      "text/plain": [
       "<class 'statsmodels.iolib.summary.Summary'>\n",
       "\"\"\"\n",
       "                            OLS Regression Results                            \n",
       "==============================================================================\n",
       "Dep. Variable:       job_satisfiction   R-squared:                       0.271\n",
       "Model:                            OLS   Adj. R-squared:                  0.125\n",
       "Method:                 Least Squares   F-statistic:                     1.859\n",
       "Date:                Thu, 13 Jul 2023   Prob (F-statistic):              0.231\n",
       "Time:                        12:27:08   Log-Likelihood:                -10.362\n",
       "No. Observations:                   7   AIC:                             24.72\n",
       "Df Residuals:                       5   BIC:                             24.62\n",
       "Df Model:                           1                                         \n",
       "Covariance Type:            nonrobust                                         \n",
       "==============================================================================\n",
       "                 coef    std err          t      P>|t|      [0.025      0.975]\n",
       "------------------------------------------------------------------------------\n",
       "Intercept      8.5957      1.361      6.316      0.001       5.097      12.094\n",
       "tenure        -0.4681      0.343     -1.363      0.231      -1.351       0.414\n",
       "==============================================================================\n",
       "Omnibus:                          nan   Durbin-Watson:                   2.414\n",
       "Prob(Omnibus):                    nan   Jarque-Bera (JB):                1.954\n",
       "Skew:                           1.292   Prob(JB):                        0.376\n",
       "Kurtosis:                       3.166   Cond. No.                         12.0\n",
       "==============================================================================\n",
       "\n",
       "Notes:\n",
       "[1] Standard Errors assume that the covariance matrix of the errors is correctly specified.\n",
       "\"\"\""
      ]
     },
     "execution_count": 79,
     "metadata": {},
     "output_type": "execute_result"
    }
   ],
   "source": [
    "import numpy as np\n",
    "import pandas as pd\n",
    "import statsmodels.api as sm\n",
    "import statsmodels.formula.api as smf\n",
    "model = smf.ols(formula='job_satisfiction ~ tenure', data=emp).fit()\n",
    " \n",
    "# model summary\n",
    "model.summary()"
   ]
  },
  {
   "cell_type": "markdown",
   "id": "97cf6088",
   "metadata": {},
   "source": [
    "9. Scenario: A study is conducted to compare the effectiveness of two different medications. The recovery times of the patients in each group are as follows:\n",
    "* Medication A: [10, 12, 14, 11, 13]\n",
    "* Medication B: [15, 17, 16, 14, 18]\n",
    "* Perform an analysis of variance (ANOVA) to determine if there is a significant difference in the mean recovery times between the two medications.\n"
   ]
  },
  {
   "cell_type": "code",
   "execution_count": 81,
   "id": "b5c9ae25",
   "metadata": {},
   "outputs": [
    {
     "data": {
      "text/plain": [
       "F_onewayResult(statistic=16.0, pvalue=0.003949772803445326)"
      ]
     },
     "execution_count": 81,
     "metadata": {},
     "output_type": "execute_result"
    }
   ],
   "source": [
    "from scipy.stats import f_oneway\n",
    "\n",
    "MedicationA=[10, 12, 14, 11, 13]\n",
    "MedicationB=[15, 17, 16, 14, 18]\n",
    "\n",
    "f_oneway(MedicationA, MedicationB)\n"
   ]
  },
  {
   "cell_type": "markdown",
   "id": "8d1d44f7",
   "metadata": {},
   "source": [
    "#Hypothesis::\n",
    "#H0: there is no significance differance between two group\n",
    "#Ho1: there is a significance diffrance between two group\n",
    "\n",
    "#Conclution::\n",
    "as pvalue is <0.05 so we can conclude that there is \n",
    "#a significance differance between two group in mean recovery time \n"
   ]
  },
  {
   "cell_type": "markdown",
   "id": "93ee84f0",
   "metadata": {},
   "source": [
    "10. Scenario: A company wants to analyze customer feedback ratings on a scale of 1 to 10. The data collected is\n",
    "as follows:\n",
    "* [8, 9, 7, 6, 8, 10, 9, 8, 7, 8]\n",
    "* Calculate the 75th percentile of the feedback ratings.\n"
   ]
  },
  {
   "cell_type": "code",
   "execution_count": 86,
   "id": "c2556da3",
   "metadata": {},
   "outputs": [
    {
     "data": {
      "text/plain": [
       "8.75"
      ]
     },
     "execution_count": 86,
     "metadata": {},
     "output_type": "execute_result"
    }
   ],
   "source": [
    "import numpy as np\n",
    "\n",
    "lst=[8, 9, 7, 6, 8, 10, 9, 8, 7, 8]\n",
    "\n",
    "np.percentile(lst,75)\n",
    "   "
   ]
  },
  {
   "cell_type": "markdown",
   "id": "f10e4eac",
   "metadata": {},
   "source": [
    "11. Scenario: A quality control department wants to test the weight consistency of a product. The weights of a sample of products are as follows:\n",
    "* [10.2, 9.8, 10.0, 10.5, 10.3, 10.1]\n",
    "* Perform a hypothesis test to determine if the mean weight differs significantly from 10 grams.\n"
   ]
  },
  {
   "cell_type": "code",
   "execution_count": 89,
   "id": "d4a7aae0",
   "metadata": {},
   "outputs": [
    {
     "name": "stdout",
     "output_type": "stream",
     "text": [
      "0.0 1.0\n"
     ]
    }
   ],
   "source": [
    "import scipy.stats as stats\n",
    "import pandas as pd\n",
    "from statistics import *\n",
    "\n",
    "from statsmodels.stats.weightstats import ztest as ztest\n",
    "\n",
    "ls=[10.2, 9.8, 10.0, 10.5, 10.3, 10.1]\n",
    "\n"
   ]
  },
  {
   "cell_type": "markdown",
   "id": "1f837cc2",
   "metadata": {},
   "source": [
    "12. Scenario: A company wants to analyze the click-through rates of two different website designs. The number of clicks for each design is as follows:\n",
    "* Design A: [100, 120, 110, 90, 95]\n",
    "* Design B: [80, 85, 90, 95, 100]\n",
    "* Perform a chi-square test to determine if there is a significant difference in the click-through rates between the two designs.\n"
   ]
  },
  {
   "cell_type": "code",
   "execution_count": 96,
   "id": "314f106c",
   "metadata": {},
   "outputs": [
    {
     "name": "stdout",
     "output_type": "stream",
     "text": [
      "p value is 0.19103526314060293\n",
      "Independent (H0 holds true)\n"
     ]
    }
   ],
   "source": [
    "DesignA=[100, 120, 110, 90, 95]\n",
    "DesignB=[80, 85, 90, 95, 100]\n",
    "\n",
    "from scipy.stats import chi2_contingency\n",
    "observed = [DesignA, DesignB]\n",
    "\n",
    "stat, p, dof, expected = chi2_contingency(observed)\n",
    " \n",
    "# interpret p-value\n",
    "alpha = 0.05\n",
    "print(\"p value is \" + str(p))\n",
    "if p <= alpha:\n",
    "    print('Dependent (reject H0)')\n",
    "else:\n",
    "    print('Independent (H0 holds true)')"
   ]
  },
  {
   "cell_type": "markdown",
   "id": "a1d96b9d",
   "metadata": {},
   "source": [
    "13. Scenario: A survey is conducted to measure customer satisfaction with a product on a scale of 1 to 10. The data collected is as follows:\n",
    "* [7, 9, 6, 8, 10, 7, 8, 9, 7, 8]\n",
    "* Calculate the 95% confidence interval for the population mean satisfaction score.\n"
   ]
  },
  {
   "cell_type": "code",
   "execution_count": 98,
   "id": "0bfa2514",
   "metadata": {},
   "outputs": [
    {
     "data": {
      "text/plain": [
       "(7.043561120599888, 8.756438879400113)"
      ]
     },
     "execution_count": 98,
     "metadata": {},
     "output_type": "execute_result"
    }
   ],
   "source": [
    "import numpy as np\n",
    "import scipy.stats as st\n",
    "\n",
    "gfg_data=[7, 9, 6, 8, 10, 7, 8, 9, 7, 8]\n",
    "st.t.interval(alpha=0.95, df=len(gfg_data)-1,\n",
    "              loc=np.mean(gfg_data),\n",
    "              scale=st.sem(gfg_data))    "
   ]
  },
  {
   "cell_type": "markdown",
   "id": "f47cb8c0",
   "metadata": {},
   "source": [
    "14. Scenario: A company wants to analyze the effect of temperature on product performance. The data collected is as follows:\n",
    "* Temperature (in degrees Celsius): [20, 22, 23, 19, 21]\n",
    "* Performance (on a scale of 1 to 10): [8, 7, 9, 6, 8]\n",
    "* Perform a simple linear regression to predict performance based on temperature.\n"
   ]
  },
  {
   "cell_type": "code",
   "execution_count": 126,
   "id": "54b58830",
   "metadata": {},
   "outputs": [
    {
     "name": "stderr",
     "output_type": "stream",
     "text": [
      "C:\\Users\\rahul\\anaconda3\\lib\\site-packages\\statsmodels\\stats\\stattools.py:74: ValueWarning: omni_normtest is not valid with less than 8 observations; 5 samples were given.\n",
      "  warn(\"omni_normtest is not valid with less than 8 observations; %i \"\n"
     ]
    },
    {
     "data": {
      "text/html": [
       "<table class=\"simpletable\">\n",
       "<caption>OLS Regression Results</caption>\n",
       "<tr>\n",
       "  <th>Dep. Variable:</th>       <td>performance</td>   <th>  R-squared:         </th> <td>   0.481</td>\n",
       "</tr>\n",
       "<tr>\n",
       "  <th>Model:</th>                   <td>OLS</td>       <th>  Adj. R-squared:    </th> <td>   0.308</td>\n",
       "</tr>\n",
       "<tr>\n",
       "  <th>Method:</th>             <td>Least Squares</td>  <th>  F-statistic:       </th> <td>   2.778</td>\n",
       "</tr>\n",
       "<tr>\n",
       "  <th>Date:</th>             <td>Fri, 14 Jul 2023</td> <th>  Prob (F-statistic):</th>  <td> 0.194</td> \n",
       "</tr>\n",
       "<tr>\n",
       "  <th>Time:</th>                 <td>17:05:24</td>     <th>  Log-Likelihood:    </th> <td> -5.5542</td>\n",
       "</tr>\n",
       "<tr>\n",
       "  <th>No. Observations:</th>      <td>     5</td>      <th>  AIC:               </th> <td>   15.11</td>\n",
       "</tr>\n",
       "<tr>\n",
       "  <th>Df Residuals:</th>          <td>     3</td>      <th>  BIC:               </th> <td>   14.33</td>\n",
       "</tr>\n",
       "<tr>\n",
       "  <th>Df Model:</th>              <td>     1</td>      <th>                     </th>     <td> </td>   \n",
       "</tr>\n",
       "<tr>\n",
       "  <th>Covariance Type:</th>      <td>nonrobust</td>    <th>                     </th>     <td> </td>   \n",
       "</tr>\n",
       "</table>\n",
       "<table class=\"simpletable\">\n",
       "<tr>\n",
       "       <td></td>          <th>coef</th>     <th>std err</th>      <th>t</th>      <th>P>|t|</th>  <th>[0.025</th>    <th>0.975]</th>  \n",
       "</tr>\n",
       "<tr>\n",
       "  <th>Intercept</th>   <td>   -2.9000</td> <td>    6.314</td> <td>   -0.459</td> <td> 0.677</td> <td>  -22.995</td> <td>   17.195</td>\n",
       "</tr>\n",
       "<tr>\n",
       "  <th>temparature</th> <td>    0.5000</td> <td>    0.300</td> <td>    1.667</td> <td> 0.194</td> <td>   -0.455</td> <td>    1.455</td>\n",
       "</tr>\n",
       "</table>\n",
       "<table class=\"simpletable\">\n",
       "<tr>\n",
       "  <th>Omnibus:</th>       <td>   nan</td> <th>  Durbin-Watson:     </th> <td>   3.056</td>\n",
       "</tr>\n",
       "<tr>\n",
       "  <th>Prob(Omnibus):</th> <td>   nan</td> <th>  Jarque-Bera (JB):  </th> <td>   0.522</td>\n",
       "</tr>\n",
       "<tr>\n",
       "  <th>Skew:</th>          <td>-0.348</td> <th>  Prob(JB):          </th> <td>   0.770</td>\n",
       "</tr>\n",
       "<tr>\n",
       "  <th>Kurtosis:</th>      <td> 1.578</td> <th>  Cond. No.          </th> <td>    314.</td>\n",
       "</tr>\n",
       "</table><br/><br/>Notes:<br/>[1] Standard Errors assume that the covariance matrix of the errors is correctly specified."
      ],
      "text/plain": [
       "<class 'statsmodels.iolib.summary.Summary'>\n",
       "\"\"\"\n",
       "                            OLS Regression Results                            \n",
       "==============================================================================\n",
       "Dep. Variable:            performance   R-squared:                       0.481\n",
       "Model:                            OLS   Adj. R-squared:                  0.308\n",
       "Method:                 Least Squares   F-statistic:                     2.778\n",
       "Date:                Fri, 14 Jul 2023   Prob (F-statistic):              0.194\n",
       "Time:                        17:05:24   Log-Likelihood:                -5.5542\n",
       "No. Observations:                   5   AIC:                             15.11\n",
       "Df Residuals:                       3   BIC:                             14.33\n",
       "Df Model:                           1                                         \n",
       "Covariance Type:            nonrobust                                         \n",
       "===============================================================================\n",
       "                  coef    std err          t      P>|t|      [0.025      0.975]\n",
       "-------------------------------------------------------------------------------\n",
       "Intercept      -2.9000      6.314     -0.459      0.677     -22.995      17.195\n",
       "temparature     0.5000      0.300      1.667      0.194      -0.455       1.455\n",
       "==============================================================================\n",
       "Omnibus:                          nan   Durbin-Watson:                   3.056\n",
       "Prob(Omnibus):                    nan   Jarque-Bera (JB):                0.522\n",
       "Skew:                          -0.348   Prob(JB):                        0.770\n",
       "Kurtosis:                       1.578   Cond. No.                         314.\n",
       "==============================================================================\n",
       "\n",
       "Notes:\n",
       "[1] Standard Errors assume that the covariance matrix of the errors is correctly specified.\n",
       "\"\"\""
      ]
     },
     "execution_count": 126,
     "metadata": {},
     "output_type": "execute_result"
    }
   ],
   "source": [
    "import numpy as np\n",
    "import pandas as pd\n",
    "import statsmodels.api as sm\n",
    "import statsmodels.formula.api as smf\n",
    "\n",
    "t=[20, 22, 23, 19, 21]\n",
    "j= [8, 7, 9, 6, 8]\n",
    "\n",
    "emp=pd.DataFrame(list(zip(t,j)),columns=['temparature','performance'])\n",
    "\n",
    "model = smf.ols(formula='performance ~ temparature', data=emp).fit()\n",
    " \n",
    "# model summary\n",
    "model.summary()"
   ]
  },
  {
   "cell_type": "code",
   "execution_count": 133,
   "id": "217aba69",
   "metadata": {},
   "outputs": [
    {
     "name": "stdout",
     "output_type": "stream",
     "text": [
      "-3.760355029585809\n",
      "[8.53846154]\n"
     ]
    }
   ],
   "source": [
    "X=emp[['temparature']]\n",
    "y=emp[['performance']]\n",
    "\n",
    "X_train, X_test, y_train, y_test = train_test_split(X, y, test_size = 0.30)\n",
    " \n",
    "regr = LinearRegression()\n",
    "\n",
    "regr.fit(X_train, y_train)\n",
    "print(regr.score(X_test, y_test))\n",
    "\n",
    "\n",
    "y_pred = regr.predict(X_test)\n",
    "\n",
    "print(y_pred[1])\n",
    "# Data scatter of p"
   ]
  },
  {
   "cell_type": "markdown",
   "id": "eabc1bb3",
   "metadata": {},
   "source": [
    "15. Scenario: A study is conducted to compare the preferences of two groups of participants. The preferences are measured on a Likert scale from 1 to 5. The data collected is as follows:\n",
    "* Group A: [4, 3, 5, 2, 4]\n",
    "* Group B: [3, 2, 4, 3, 3]\n",
    "* Perform a Mann-Whitney U test to determine if there is a significant difference in the median preferences between the two groups\n"
   ]
  },
  {
   "cell_type": "code",
   "execution_count": null,
   "id": "43fb7159",
   "metadata": {},
   "outputs": [],
   "source": []
  },
  {
   "cell_type": "code",
   "execution_count": null,
   "id": "e1b6a860",
   "metadata": {},
   "outputs": [],
   "source": []
  },
  {
   "cell_type": "markdown",
   "id": "03be2616",
   "metadata": {},
   "source": [
    "16. Scenario: A company wants to analyze the distribution of customer ages. The data collected is as follows:\n",
    "* [25, 30, 35, 40, 45, 50, 55, 60, 65, 70]\n",
    "* Calculate the interquartile range (IQR) of the ages.\n"
   ]
  },
  {
   "cell_type": "code",
   "execution_count": 100,
   "id": "e813e8e7",
   "metadata": {},
   "outputs": [
    {
     "name": "stdout",
     "output_type": "stream",
     "text": [
      "20.0\n"
     ]
    }
   ],
   "source": [
    "from scipy import stats\n",
    "\n",
    "data=[25, 30, 35, 40, 45, 50, 55, 60, 65, 70]\n",
    "\n",
    "# Interquartile range (IQR)\n",
    "IQR = stats.iqr(data, interpolation = 'midpoint')\n",
    "  \n",
    "print(IQR)\n"
   ]
  },
  {
   "cell_type": "markdown",
   "id": "2508ed4d",
   "metadata": {},
   "source": [
    "17. Scenario: A study is conducted to compare the performance of three different machine learning algorithms. The accuracy scores for each algorithm are as follows:\n",
    "* Algorithm A: [0.85, 0.80, 0.82, 0.87, 0.83]\n",
    "* Algorithm B: [0.78, 0.82, 0.84, 0.80, 0.79]\n",
    "* Algorithm C: [0.90, 0.88, 0.89, 0.86, 0.87]\n",
    "* Perform a Kruskal-Wallis test to determine if there is a significant difference in the median accuracy scores between the algorithms.\n",
    "\n"
   ]
  },
  {
   "cell_type": "code",
   "execution_count": null,
   "id": "f7c4922c",
   "metadata": {},
   "outputs": [],
   "source": []
  },
  {
   "cell_type": "code",
   "execution_count": null,
   "id": "824bc14b",
   "metadata": {},
   "outputs": [],
   "source": []
  },
  {
   "cell_type": "markdown",
   "id": "4162ef25",
   "metadata": {},
   "source": [
    "18. Scenario: A company wants to analyze the effect of price on sales. The data collected is as follows:\n",
    "* Price (in dollars): [10, 15, 12, 8, 14]\n",
    "* Sales: [100, 80, 90, 110, 95]\n",
    "Perform a simple linear regression to predict sales based on price.\n"
   ]
  },
  {
   "cell_type": "code",
   "execution_count": 120,
   "id": "11b1b43d",
   "metadata": {},
   "outputs": [
    {
     "name": "stdout",
     "output_type": "stream",
     "text": [
      "0.4965277777777778\n"
     ]
    }
   ],
   "source": [
    "import numpy as np\n",
    "import pandas as pd\n",
    "import seaborn as sns\n",
    "import matplotlib.pyplot as plt\n",
    "from sklearn import preprocessing, svm\n",
    "from sklearn.model_selection import train_test_split\n",
    "from sklearn.linear_model import LinearRegression\n",
    "\n",
    "\n",
    "X=[10, 15, 12, 8, 14]\n",
    "y= [100, 80, 90, 110, 95]\n",
    "\n",
    "\n",
    "\n",
    "sales=pd.DataFrame(list(zip(X,y)),columns=['price','sales'])\n",
    "\n",
    "X=sales[['price']]\n",
    "y= sales[['sales']]\n",
    "\n",
    "X_train, X_test, y_train, y_test = train_test_split(X, y, test_size = 0.25)\n",
    " \n",
    "regr = LinearRegression()\n",
    "\n",
    "regr.fit(X_train, y_train)\n",
    "print(regr.score(X_test, y_test))\n"
   ]
  },
  {
   "cell_type": "code",
   "execution_count": 125,
   "id": "5ad8bfd6",
   "metadata": {},
   "outputs": [
    {
     "name": "stdout",
     "output_type": "stream",
     "text": [
      "[91.25]\n"
     ]
    }
   ],
   "source": [
    "y_pred = regr.predict(X_test)\n",
    "\n",
    "print(y_pred[1])\n",
    "# Data scatter of predicted values"
   ]
  },
  {
   "cell_type": "markdown",
   "id": "b9429143",
   "metadata": {},
   "source": [
    "19. Scenario: A survey is conducted to measure the satisfaction levels of customers with a new product. The data collected is as follows:\n",
    "* [7, 8, 9, 6, 8, 7, 9, 7, 8, 7]\n",
    "* Calculate the standard error of the mean satisfaction score.\n"
   ]
  },
  {
   "cell_type": "code",
   "execution_count": 134,
   "id": "eef5811e",
   "metadata": {},
   "outputs": [
    {
     "data": {
      "text/plain": [
       "7.6"
      ]
     },
     "execution_count": 134,
     "metadata": {},
     "output_type": "execute_result"
    }
   ],
   "source": [
    "l=[7, 8, 9, 6, 8, 7, 9, 7, 8, 7]\n",
    "Average(l)"
   ]
  },
  {
   "cell_type": "markdown",
   "id": "3822986f",
   "metadata": {},
   "source": [
    "20. Scenario: A company wants to analyze the relationship between advertising expenditure and sales. The data collected is as follows:\n",
    "* Advertising Expenditure (in thousands): [10, 15, 12, 8, 14]\n",
    "* Sales (in thousands): [25, 30, 28, 20, 26]\n",
    "* Perform a multiple regression analysis to predict sales based on advertising expenditure.\n",
    "\n"
   ]
  },
  {
   "cell_type": "code",
   "execution_count": 135,
   "id": "9e405d21",
   "metadata": {},
   "outputs": [
    {
     "name": "stdout",
     "output_type": "stream",
     "text": [
      "0.6055484693877556\n",
      "[23.07142857]\n"
     ]
    }
   ],
   "source": [
    "import numpy as np\n",
    "import pandas as pd\n",
    "import seaborn as sns\n",
    "import matplotlib.pyplot as plt\n",
    "from sklearn import preprocessing, svm\n",
    "from sklearn.model_selection import train_test_split\n",
    "from sklearn.linear_model import LinearRegression\n",
    "\n",
    "\n",
    "X=[10, 15, 12, 8, 14]\n",
    "y=  [25, 30, 28, 20, 26]\n",
    "\n",
    "\n",
    "\n",
    "sales=pd.DataFrame(list(zip(X,y)),columns=['price','sales'])\n",
    "\n",
    "X=sales[['price']]\n",
    "y= sales[['sales']]\n",
    "\n",
    "X_train, X_test, y_train, y_test = train_test_split(X, y, test_size = 0.25)\n",
    " \n",
    "regr = LinearRegression()\n",
    "\n",
    "regr.fit(X_train, y_train)\n",
    "print(regr.score(X_test, y_test))\n",
    "\n",
    "y_pred = regr.predict(X_test)\n",
    "\n",
    "print(y_pred[1])"
   ]
  }
 ],
 "metadata": {
  "kernelspec": {
   "display_name": "Python 3 (ipykernel)",
   "language": "python",
   "name": "python3"
  },
  "language_info": {
   "codemirror_mode": {
    "name": "ipython",
    "version": 3
   },
   "file_extension": ".py",
   "mimetype": "text/x-python",
   "name": "python",
   "nbconvert_exporter": "python",
   "pygments_lexer": "ipython3",
   "version": "3.9.12"
  }
 },
 "nbformat": 4,
 "nbformat_minor": 5
}
